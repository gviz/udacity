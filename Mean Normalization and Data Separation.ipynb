{
 "cells": [
  {
   "cell_type": "markdown",
   "metadata": {},
   "source": [
    "# Mean Normalization\n",
    "\n",
    "In machine learning we use large amounts of data to train our models. Some machine learning algorithms may require that the data is *normalized* in order to work correctly. The idea of normalization, also known as *feature scaling*, is to ensure that all the data is on a similar scale, *i.e.* that all the data takes on a similar range of values. For example, we might have a dataset that has values between 0 and 5,000. By normalizing the data we can make the range of values be between 0 and 1.\n",
    "\n",
    "In this lab you will be performing a particular form of feature scaling known as *mean normalization*. Mean normalization will not only scale the data but will also ensure your data has zero mean. \n",
    "\n",
    "# To Do:\n",
    "\n",
    "You will start by importing NumPy and creating a rank 2 ndarray of random integers between 0 and 5,000 (inclusive) with 1000 rows and 20 columns. This array will simulate a dataset with a wide range of values. Fill in the code below"
   ]
  },
  {
   "cell_type": "code",
   "execution_count": 8,
   "metadata": {},
   "outputs": [
    {
     "name": "stdout",
     "output_type": "stream",
     "text": [
      "(20, 1000)\n"
     ]
    }
   ],
   "source": [
    "# import NumPy into Python\n",
    "import numpy as np\n",
    "\n",
    "\n",
    "# Create a 1000 x 20 ndarray with random integers in the half-open interval [0, 5001).\n",
    "X = np.random.randint(0,5001,(20,1000))\n",
    "\n",
    "# print the shape of X\n",
    "print(X.shape)\n"
   ]
  },
  {
   "cell_type": "markdown",
   "metadata": {},
   "source": [
    "Now that you created the array we will mean normalize it. We will perform mean normalization using the following equation:\n",
    "\n",
    "$\\mbox{Norm_Col}_i = \\frac{\\mbox{Col}_i - \\mu_i}{\\sigma_i}$\n",
    "\n",
    "where $\\mbox{Col}_i$ is the $i$th column of $X$, $\\mu_i$ is average of the values in the $i$th column of $X$, and $\\sigma_i$ is the standard deviation of the values in the $i$th column of $X$. In other words, mean normalization is performed by subtracting from each column of $X$ the average of its values, and then by dividing by the standard deviation of its values. In the space below, you will first calculate the average and standard deviation of each column of $X$. "
   ]
  },
  {
   "cell_type": "code",
   "execution_count": 13,
   "metadata": {},
   "outputs": [],
   "source": [
    "# Average of the values in each column of X\n",
    "ave_cols = np.array([X[:,i].mean() for i in range(0,X.shape[0])])\n",
    "\n",
    "# Standard Deviation of the values in each column of X\n",
    "std_cols = np.array([X[:,i].std() for i in range(0,X.shape[0])])"
   ]
  },
  {
   "cell_type": "markdown",
   "metadata": {},
   "source": [
    "If you have done the above calculations correctly, then `ave_cols` and `std_cols`, should both be vectors with shape `(20,)` since $X$ has 20 columns. You can verify this by filling the code below:"
   ]
  },
  {
   "cell_type": "code",
   "execution_count": 33,
   "metadata": {},
   "outputs": [
    {
     "name": "stdout",
     "output_type": "stream",
     "text": [
      "(20,)\n",
      "(20,)\n"
     ]
    }
   ],
   "source": [
    "# Print the shape of ave_cols\n",
    "print(ave_cols.shape)\n",
    "# Print the shape of std_cols\n",
    "print(std_cols.shape)\n"
   ]
  },
  {
   "cell_type": "markdown",
   "metadata": {},
   "source": [
    "You can now take advantage of Broadcasting to calculate the mean normalized version of $X$ in just one line of code using the equation above. Fill in the code below"
   ]
  },
  {
   "cell_type": "code",
   "execution_count": 35,
   "metadata": {},
   "outputs": [],
   "source": [
    "# Mean normalize X\n",
    "X_norm = (X.transpose() - ave_cols.transpose())/std_cols.transpose()"
   ]
  },
  {
   "cell_type": "markdown",
   "metadata": {},
   "source": [
    "If you have performed the mean normalization correctly, then the average of all the elements in $X_{\\tiny{\\mbox{norm}}}$ should be close to zero. You can verify this by filing the code below:"
   ]
  },
  {
   "cell_type": "code",
   "execution_count": 45,
   "metadata": {},
   "outputs": [
    {
     "name": "stdout",
     "output_type": "stream",
     "text": [
      "(1000, 20)\n",
      "-0.185363800412\n",
      "1000\n",
      "20\n",
      "[[-0.06317535  0.44614627  0.08707343 ..., -1.83702476 -0.80767583\n",
      "   0.8059596 ]\n",
      " [-1.36818943  1.4323384   1.05673769 ...,  0.39662636  0.75771279\n",
      "   0.41870639]\n",
      " [ 0.06978835  0.24186362  1.28178438 ..., -0.43551817  1.14711294\n",
      "  -0.24872542]\n",
      " ..., \n",
      " [ 1.11942772  1.59928664  1.04238908 ...,  2.13712235 -0.99638513\n",
      "  -1.07498459]\n",
      " [ 1.4268623  -1.22544938 -0.74665658 ...,  2.02324994  0.73075432\n",
      "  -2.1073624 ]\n",
      " [ 0.3687808   0.56237606 -0.65452337 ...,  1.90850159 -1.06947254\n",
      "  -0.85905077]]\n",
      "-1.76496999734\n",
      "-1.88831137588\n",
      "-2.18906992794\n",
      "-1.53766305477\n",
      "-1.82705751401\n",
      "-1.92083241216\n",
      "-2.32083709209\n",
      "-2.24501183161\n",
      "-1.65691887941\n",
      "-2.16680261384\n",
      "-1.75745837884\n",
      "-2.01285933231\n",
      "-2.22104894047\n",
      "-2.24216835388\n",
      "-1.98803748133\n",
      "-2.18519291133\n",
      "-2.23872125804\n",
      "-2.20579617603\n",
      "-1.47444870271\n",
      "-2.86134619836\n",
      "1.74484956449\n",
      "1.63309894178\n",
      "1.57479819255\n",
      "2.34535586033\n",
      "1.56772093211\n",
      "1.77249331405\n",
      "1.62851233412\n",
      "2.00506741754\n",
      "1.73982949093\n",
      "1.44852149984\n",
      "1.11696243633\n",
      "1.96154842353\n",
      "1.69041436479\n",
      "1.48339771617\n",
      "1.59910717171\n",
      "1.28539940915\n",
      "1.40122712864\n",
      "2.17303595961\n",
      "1.51913985874\n",
      "1.59295807301\n"
     ]
    }
   ],
   "source": [
    "# Print the average of all the values of X_norm\n",
    "print(X_norm.shape)\n",
    "print(X_norm.mean())\n",
    "print(X_norm.shape[0])\n",
    "print(X_norm.shape[1])\n",
    "print(X_norm)\n",
    "# Print the minimum value of each column of X_norm\n",
    "for x in range(0,X_norm.shape[1]):\n",
    "    print(X_norm[:,x].min()) \n",
    "# Print the maximum value of each column of X_norm\n",
    "\n",
    "for x in range(0,X_norm.shape[1]):\n",
    "    print(X_norm[:,x].max()) "
   ]
  },
  {
   "cell_type": "markdown",
   "metadata": {},
   "source": [
    "You should note that since $X$ was created using random integers, the above values will vary. \n",
    "\n",
    "# Data Separation\n",
    "\n",
    "After the data has been mean normalized, it is customary in machine learnig to split our dataset into three sets:\n",
    "\n",
    "1. A Training Set\n",
    "2. A Cross Validation Set\n",
    "3. A Test Set\n",
    "\n",
    "The dataset is usually divided such that the Training Set contains 60% of the data, the Cross Validation Set contains 20% of the data, and the Test Set contains 20% of the data. \n",
    "\n",
    "In this part of the lab you will separate `X_norm` into a Training Set, Cross Validation Set, and a Test Set. Each data set will contain rows of `X_norm` chosen at random, making sure that we don't pick the same row twice. This will guarantee that all the rows of `X_norm` are chosen and randomly distributed among the three new sets.\n",
    "\n",
    "You will start by creating a rank 1 ndarray that contains a random permutation of the row indices of `X_norm`. You can do this by using the `np.random.permutation()` function. The `np.random.permutation(N)` function creates a random permutation of integers from 0 to `N - 1`. Let's see an example:"
   ]
  },
  {
   "cell_type": "code",
   "execution_count": 48,
   "metadata": {},
   "outputs": [
    {
     "data": {
      "text/plain": [
       "array([4, 1, 0, 3, 2])"
      ]
     },
     "execution_count": 48,
     "metadata": {},
     "output_type": "execute_result"
    }
   ],
   "source": [
    "# We create a random permutation of integers 0 to 4\n",
    "np.random.permutation(5)\n"
   ]
  },
  {
   "cell_type": "markdown",
   "metadata": {},
   "source": [
    "# To Do\n",
    "\n",
    "In the space below create a rank 1 ndarray that contains a random permutation of the row indices of `X_norm`. You can do this in one line of code by extracting the number of rows of `X_norm` using the `shape` attribute and then passing it to the  `np.random.permutation()` function. Remember the `shape` attribute returns a tuple with two numbers in the form `(rows,columns)`."
   ]
  },
  {
   "cell_type": "code",
   "execution_count": 52,
   "metadata": {},
   "outputs": [
    {
     "name": "stdout",
     "output_type": "stream",
     "text": [
      "[ 31  72 130  24  74 981 378 641 279 248 945 466 467 514 888 217  63 433\n",
      " 368 656 465 155 478 121 520 955 772 505 612 991 427 546  70 490 100 811\n",
      " 112 126 614 860 917 695 599 547 425 226 141 999  84 414 669 579  23 976\n",
      " 799 442 395 967 750 736 495 690 223 891 428 447 225 627 920 682 409 374\n",
      " 415 570 638 384 285 135   1 246  85 615 386 809 671 737 949 345 521 862\n",
      " 763 716 176 133 849 867 947 387 828 282 397  13 564 626 752  90 110 418\n",
      " 531 319 479 609 513 402 629 411 247 253 859  79 912 486 340 412 502 398\n",
      " 985 994 975 812 468 675 470 307 565 251 741 847 131 765 700 359 632 767\n",
      " 355 229 723 943 533 642 441 127 644 726  53 709 593 330 606  30 432 942\n",
      " 844 463 866 722 676 139  34 457 944 906 237 717 194 452 376 851 961 104\n",
      " 310 144 335 568 458 362 437 968   9 498 539 966 320 195 746 371 749 254\n",
      " 762 356 536 665 701  81  37 201 554  52 673 200 263 105 499 853 519 328\n",
      " 146 580 802 469 339 588 778 668  18 471 202 930 563 605 956 789 586 333\n",
      "  11 281 482 171 390 753  40 834 266 666  26 957  69 277 445 234 643 922\n",
      " 177 545   8 581 444 460 932 431 138  60 140 770 453 628 874 988 363 381\n",
      " 898 982 817 350  27 841 876 449 919 198 304 954 231 212 865 364 896 857\n",
      " 353 283 996 662 145 208 448 197 161 623 889 114 289 392 334 464 821  94\n",
      "  35 326 461 635 672 655 332 503 407 214 224  28 724  29 557 388 839 258\n",
      " 625 879  12 496 744 740 106 964 758 670 768 349 540  43 727 134 365 173\n",
      " 830 399 524 153 734 382 936 187 732 725 354  89 831 439 435 854 933 189\n",
      " 517 731 287 882 150 256  99  80 694 525 833 562 370 556 803 869 792 743\n",
      " 124 790 587 578 652  50 784 323  97 462 795 242 252 636 931  55 389  66\n",
      " 667  33 309 929 306 275 308 424 316 179 375  16 766 911 219  76 507 804\n",
      " 162 286  10 738 357 152 108 883 715  65 881 101 639 421 880 372  71 782\n",
      " 408 836 984 379 473 914 532  88 986  82 270 620  49 454 230 657 574 823\n",
      " 617 895 781  17 894 910 259 973 291 786 318  19 204 255 302 598 342 184\n",
      " 702 838 640 440  15 196 271 417 560 616 928 777 377 785 404 993 167 267\n",
      " 597 864 488 979 733 938 480 164 235 541 510 222 848  64 923 622 757 489\n",
      " 190 426 649 918 459 721 575 477 611 558 648 728 211 529 456 958 367 115\n",
      " 572 148 980 534 236 123 748 927 136 396 128 413 683 394 998 846 125 677\n",
      " 650 527 170 745 245 850  59 775 856  51 172 346 422 551  98 373 296 963\n",
      "  78 711 582 576 710 303 855 403 506 658 608 577  62 191 909 624 429 870\n",
      " 151 555 590 813  22 829 312 651 890 278  61 476  56 654 800  41 111 978\n",
      " 142  39   5 630 583 535 548 243 322 360 589 497 703 886  20 684 686 893\n",
      " 420 822 924 631 596 484 169 528 293 508 607 269 118 216  47 361 559 887\n",
      " 771 604 549 825 720 288 292 325 939 633 213  95 218 192 679 806 352 646\n",
      " 183 934 707  67 730 500 182 692 950 791  44  86 780 907 260 301  46  75\n",
      " 584 530 193 704 317 858 921 160 814 602 369 810  54 117 516 899 515 383\n",
      " 774 852 585 109 233 621 116 698 990 430 455 983 107 664 592 262 298 837\n",
      " 987 264 951 276 512 751 220 423 250 685 754 393 674 168 550 573 801 523\n",
      " 708 735 783 416 941 166 295 494 538 900 569 203  96 905 102 793 450 238\n",
      " 158 239   7 706 764 885 249 159 119 337 960 137 366 788 946  57 832 232\n",
      "  32  38 908 257 779 341 297  48  73 406 385 481  83 689 163 687 916 300\n",
      " 696 952 600 603 436 537 794 969 544 280 729 241 103 380 845 180 294 157\n",
      " 553 472 491 892 186 678 601 290 129 185 215 680 358 903 808 970 120 816\n",
      " 493 760 773 338 827 820 719 977 504 878 610 713 518 992 178 552 400 329\n",
      "  21 483 509  45 487 619  58 566 843 327 835 210 348 156 972 935 915 776\n",
      " 897 997 797 228 299 344 314 351 877 962 313 819  77 618 206   4 221 875\n",
      " 434  93 205 154 971 926 336 718 712  68 861 974  92 637 904 438 149 321\n",
      " 446 410 940 925 181 542 475 511 492 419 405 948 699  25 807   6 913 691\n",
      "  36 902 443 591 796 401 645 714 165   2 132 705 315 747 526 868 697 485\n",
      " 826 147 227 739 937 659 274 872 240 305 175   3 805 522 567 174 761 261\n",
      " 901 501 965 571 840 143 451  42 265 343 953 995 863 653 595 842 613 634\n",
      " 871 759 311 113 543 798 188 742 661 244 391 787 959 324 594 474 755 284\n",
      " 873 268 207  14 273 347 561 331 989 681 693 647  87 884 815 769 660 818\n",
      " 199 688   0 272 122  91 824 663 756 209]\n"
     ]
    }
   ],
   "source": [
    "# Create a rank 1 ndarray that contains a random permutation of the row indices of `X_norm`\n",
    "row_indices = np.random.permutation(X_norm.shape[0])\n",
    "print(row_indices)"
   ]
  },
  {
   "cell_type": "markdown",
   "metadata": {},
   "source": [
    "Now you can create the three datasets using the `row_indices` ndarray to select the rows that will go into each dataset. Rememeber that the Training Set contains 60% of the data, the Cross Validation Set contains 20% of the data, and the Test Set contains 20% of the data. Each set requires just one line of code to create. Fill in the code below"
   ]
  },
  {
   "cell_type": "code",
   "execution_count": 67,
   "metadata": {},
   "outputs": [
    {
     "name": "stdout",
     "output_type": "stream",
     "text": [
      "(600, 20)\n",
      "[[ 0.35260003 -0.95847308 -1.82959938 ...,  0.57444251  0.3796951\n",
      "  -0.75197615]\n",
      " [ 0.21049068 -1.34661013 -1.76993935 ...,  0.957229    0.1490504\n",
      "   0.51775041]\n",
      " [-1.23170818 -1.41141704 -0.93016781 ...,  1.25767697  1.15190556\n",
      "  -0.27549408]\n",
      " ..., \n",
      " [-0.17573721  1.0456102   1.36107936 ..., -0.48895061 -0.56325234\n",
      "  -2.51870741]\n",
      " [ 1.39309375 -0.99862519  1.36863126 ..., -1.10473757  1.27771176\n",
      "  -0.65739356]\n",
      " [-0.18277232 -1.54737067  0.35214521 ..., -1.52606548  0.75531648\n",
      "  -1.28913383]]\n",
      "(200, 20)\n",
      "(200, 20)\n"
     ]
    }
   ],
   "source": [
    "# Make any necessary calculations.\n",
    "# You can save your calculations into variables to use later.\n",
    "\n",
    "\n",
    "# Create a Training Set\n",
    "X_train = np.array([X_norm[x] for x in row_indices[0:int(.6*len(row_indices))]])\n",
    "\n",
    "# Create a Cross Validation Set\n",
    "X_crossVal = np.array([X_norm[x] for x in row_indices[int(.6*len(row_indices)):int(.8*len(row_indices))]])\n",
    "\n",
    "# Create a Test Set\n",
    "X_test = np.array([X_norm[x] for x in row_indices[int(.8*len(row_indices)):len(row_indices)]])\n",
    "\n",
    "\n",
    "\n"
   ]
  },
  {
   "cell_type": "markdown",
   "metadata": {},
   "source": [
    "If you performed the above calculations correctly, then `X_tain` should have 600 rows and 20 columns, `X_crossVal` should have 200 rows and 20 columns, and `X_test` should have 200 rows and 20 columns. You can verify this by filling the code below:"
   ]
  },
  {
   "cell_type": "code",
   "execution_count": 68,
   "metadata": {},
   "outputs": [
    {
     "name": "stdout",
     "output_type": "stream",
     "text": [
      "(600, 20)\n",
      "(200, 20)\n",
      "(200, 20)\n"
     ]
    }
   ],
   "source": [
    "# Print the shape of X_train\n",
    "print(X_train.shape)\n",
    "# Print the shape of X_crossVal\n",
    "print(X_crossVal.shape)\n",
    "# Print the shape of X_test\n",
    "print(X_test.shape)"
   ]
  }
 ],
 "metadata": {
  "kernelspec": {
   "display_name": "Python 3",
   "language": "python",
   "name": "python3"
  },
  "language_info": {
   "codemirror_mode": {
    "name": "ipython",
    "version": 3
   },
   "file_extension": ".py",
   "mimetype": "text/x-python",
   "name": "python",
   "nbconvert_exporter": "python",
   "pygments_lexer": "ipython3",
   "version": "3.6.3"
  }
 },
 "nbformat": 4,
 "nbformat_minor": 2
}
